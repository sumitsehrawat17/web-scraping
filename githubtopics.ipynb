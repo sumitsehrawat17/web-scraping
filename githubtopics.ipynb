{
 "cells": [
  {
   "cell_type": "code",
   "execution_count": 1,
   "id": "8203eee1-9c5f-49c0-9766-1bc629465b61",
   "metadata": {},
   "outputs": [],
   "source": [
    "import pandas as pd\n",
    "import requests as r\n",
    "from bs4 import BeautifulSoup as bs\n"
   ]
  },
  {
   "cell_type": "code",
   "execution_count": 2,
   "id": "aed51c48-62de-419b-856a-c64b751f4d64",
   "metadata": {},
   "outputs": [],
   "source": [
    "url = 'https://github.com/topics'\n",
    "data = r.get(url)\n",
    "parsed = bs(data.text,'html.parser')"
   ]
  },
  {
   "cell_type": "markdown",
   "id": "4f95984c-af89-41a0-b1a3-7d06f42da53f",
   "metadata": {},
   "source": [
    "# get titles of the first 30 popular topics"
   ]
  },
  {
   "cell_type": "code",
   "execution_count": null,
   "id": "ef41af3a-6c52-45c2-8e66-c53fe115501b",
   "metadata": {},
   "outputs": [
    {
     "data": {
      "text/plain": [
       "['3D', 'Ajax', 'Algorithm', 'Amp', 'Android']"
      ]
     },
     "execution_count": 9,
     "metadata": {},
     "output_type": "execute_result"
    }
   ],
   "source": [
    "selector_tit = 'f3 lh-condensed mb-0 mt-1 Link--primary'\n",
    "topic_title_tags = parsed.find_all('p',{'class':selector_tit})\n",
    "topics_title = []\n",
    "for tag in topic_title_tags:\n",
    "    topics_title.append(tag.text)\n",
    "topics_title[:5]    "
   ]
  },
  {
   "cell_type": "markdown",
   "id": "aa19c163-eb3f-449f-aa35-3dd6d187a3f9",
   "metadata": {},
   "source": [
    "# get discription of the first 30 popular topics"
   ]
  },
  {
   "cell_type": "code",
   "execution_count": 4,
   "id": "fe2ba0d5-5aee-4f74-8593-a6048c673071",
   "metadata": {},
   "outputs": [
    {
     "name": "stdout",
     "output_type": "stream",
     "text": [
      "['3D modeling is the process of virtually developing the surface and structure of a 3D object.', 'Ajax is a technique for creating interactive web applications.', 'Algorithms are self-contained sequences that carry out a variety of tasks.', 'Amp is a non-blocking concurrency framework for PHP.', 'Android is an operating system built by Google designed for mobile devices.']\n"
     ]
    }
   ],
   "source": [
    "selector_dic = \"f5 color-fg-muted mb-0 mt-1\"\n",
    "topic_disc_tags = parsed.find_all('p',{'class':selector_dic})\n",
    "topics_disc = []\n",
    "for tag in topic_disc_tags:\n",
    "    topics_disc.append(str.strip(tag.text))\n",
    "print(topics_disc[:5])    "
   ]
  },
  {
   "cell_type": "markdown",
   "id": "0555b8d8-24e6-48b2-81e2-34808308c903",
   "metadata": {},
   "source": [
    "# get link of the first 30 popular topics"
   ]
  },
  {
   "cell_type": "code",
   "execution_count": null,
   "id": "c8c3b32f-59f4-403b-b355-fe45459bea39",
   "metadata": {},
   "outputs": [
    {
     "name": "stdout",
     "output_type": "stream",
     "text": [
      "['https://github.com/topics/3d', 'https://github.com/topics/ajax', 'https://github.com/topics/algorithm', 'https://github.com/topics/amphp', 'https://github.com/topics/android']\n"
     ]
    }
   ],
   "source": [
    "selector_link = \"d-flex no-underline\"\n",
    "topic_links_tags = parsed.find_all('a',{'class':selector_link})\n",
    "topics_links = []\n",
    "for tag in topic_links_tags:\n",
    "    topics_links.append('https://github.com'+tag['href'])\n",
    "print(topics_links[:5])  "
   ]
  },
  {
   "cell_type": "code",
   "execution_count": null,
   "id": "b057e773-a698-4f6c-a55b-988676b67853",
   "metadata": {},
   "outputs": [],
   "source": [
    "# creating csv file for topics details "
   ]
  },
  {
   "cell_type": "code",
   "execution_count": 14,
   "id": "14a74035-27ac-4d3a-9003-f72eaacfc086",
   "metadata": {},
   "outputs": [],
   "source": [
    "df_ = pd.DataFrame({'Topic':topics_title,'Discription':topics_disc,'Links':topics_links})\n",
    "df_.to_csv('topics.csv',index = False)"
   ]
  },
  {
   "cell_type": "markdown",
   "id": "8defa507-937f-46b4-a8e7-e61913d856d5",
   "metadata": {},
   "source": [
    "# getting best 25 repos and likes and project name of topics etc"
   ]
  },
  {
   "cell_type": "code",
   "execution_count": 13,
   "id": "20e1f05d-2bbb-47e2-8928-a0b693e4496b",
   "metadata": {},
   "outputs": [],
   "source": [
    "t = 0;\n",
    "for l in topics_links:\n",
    "    proj_name = []\n",
    "    proj_likes = []\n",
    "    proj_links = []\n",
    "    pro = r.get(l)\n",
    "    proj_data = bs(pro.text,'html.parser')\n",
    "    proj_data_name  = proj_data.find_all('a',{'class':\"text-bold wb-break-word\"},limit=25)\n",
    "    proj_data_likes = proj_data.find_all('a',{'class':\"social-count float-none\"},limit=25)\n",
    "    for i in proj_data_name:\n",
    "        proj_name.append(i.text)\n",
    "        proj_links.append('https://github.com'+i['href'])\n",
    "    for j in proj_data_likes:\n",
    "        proj_likes.append(j.text)\n",
    "    df = pd.DataFrame({\"Name\":proj_name,\"Likes\":proj_likes,\"Links\":proj_links})\n",
    "    df.to_csv('{}.csv'.format(topics_title[t]))\n",
    "    t=t+1;\n",
    "      \n",
    "    "
   ]
  }
 ],
 "metadata": {
  "kernelspec": {
   "display_name": "Python 3",
   "language": "python",
   "name": "python3"
  },
  "language_info": {
   "codemirror_mode": {
    "name": "ipython",
    "version": 3
   },
   "file_extension": ".py",
   "mimetype": "text/x-python",
   "name": "python",
   "nbconvert_exporter": "python",
   "pygments_lexer": "ipython3",
   "version": "3.9.4"
  }
 },
 "nbformat": 4,
 "nbformat_minor": 5
}
