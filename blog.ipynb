{
 "cells": [
  {
   "cell_type": "markdown",
   "id": "87c24e26-1a43-438c-934b-bede0b378a77",
   "metadata": {},
   "source": [
    "### badget blogs"
   ]
  },
  {
   "cell_type": "code",
   "execution_count": 3,
   "id": "9935e0ba-ca55-4264-8aaa-267a5fe870cb",
   "metadata": {},
   "outputs": [],
   "source": [
    "import pandas as pd\n",
    "import requests as r\n",
    "from bs4 import BeautifulSoup as bs\n"
   ]
  },
  {
   "cell_type": "code",
   "execution_count": 38,
   "id": "d4c6ae5d-d810-48e5-b4c3-18b118be0951",
   "metadata": {},
   "outputs": [
    {
     "data": {
      "text/plain": [
       "str"
      ]
     },
     "execution_count": 38,
     "metadata": {},
     "output_type": "execute_result"
    }
   ],
   "source": [
    "data = r.get('https://www.coursera.org/articles/data-analytics-projects-for-beginners')\n",
    "data.text\n",
    "\n",
    "\n",
    "#soup = bs(data.content)\n",
    "#print(dir(soup))"
   ]
  },
  {
   "cell_type": "code",
   "execution_count": 71,
   "id": "41df6313-8799-4f57-82e0-8e479def1039",
   "metadata": {},
   "outputs": [
    {
     "name": "stdout",
     "output_type": "stream",
     "text": [
      "['1. Web scraping']\n",
      "['2. Data cleaning']\n",
      "['3. Exploratory data analysis (EDA)']\n",
      "['10 free public datasets for EDA']\n",
      "['4. Sentiment analysis']\n",
      "['5. Data visualization']\n"
     ]
    }
   ],
   "source": [
    "souped_data = bs(data.text,parser = 'html_parser')\n",
    "#print(souped_data.prettify())\n",
    "project = []\n",
    "k = 0;\n",
    "for i in souped_data.find_all('h3'):\n",
    "    if k <= 5:\n",
    "        project.append(i)\n",
    "        k = k + 1\n",
    "for j in project:\n",
    "    print(j.contents)"
   ]
  }
 ],
 "metadata": {
  "kernelspec": {
   "display_name": "Python 3",
   "language": "python",
   "name": "python3"
  },
  "language_info": {
   "codemirror_mode": {
    "name": "ipython",
    "version": 3
   },
   "file_extension": ".py",
   "mimetype": "text/x-python",
   "name": "python",
   "nbconvert_exporter": "python",
   "pygments_lexer": "ipython3",
   "version": "3.9.4"
  }
 },
 "nbformat": 4,
 "nbformat_minor": 5
}
